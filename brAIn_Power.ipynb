{
  "nbformat": 4,
  "nbformat_minor": 0,
  "metadata": {
    "colab": {
      "name": "brAIn-Power.ipynb",
      "provenance": [],
      "machine_shape": "hm"
    },
    "kernelspec": {
      "name": "python3",
      "display_name": "Python 3"
    },
    "language_info": {
      "name": "python"
    },
    "accelerator": "GPU"
  },
  "cells": [
    {
      "cell_type": "markdown",
      "source": [
        "This is a file meant to demonstrate the code developed by the group brAIn-Power in the course 02456 Deep learning 2021 for Deloitte. NOTE: as the data was confidential, it is not included. Since we were not able to gather replacement data, random data is generated in order for the code to run. This means all the outputs will be nonsense, however, the code is still demonstrated.The results we found using this code base with the data provided by Deloitte in shared in the final report.\n",
        "\n",
        "Emilie Rasmussen - s213451,\n",
        "Gary Fougerolle - s211974,\n",
        "Mikkel Danielsen - s183913,\n",
        "Oscar Carpentier - s201590,\n",
        "Tyme Chatupanyachotikul - s212273"
      ],
      "metadata": {
        "id": "px3VNSTW9gwY"
      }
    },
    {
      "cell_type": "markdown",
      "source": [
        "# Imports"
      ],
      "metadata": {
        "id": "I8NVrq3RpkZU"
      }
    },
    {
      "cell_type": "code",
      "execution_count": 1,
      "metadata": {
        "colab": {
          "base_uri": "https://localhost:8080/"
        },
        "id": "zDN5RZ_LoJSy",
        "outputId": "1c859763-082d-4b63-8a94-f38422bec728"
      },
      "outputs": [
        {
          "output_type": "stream",
          "name": "stdout",
          "text": [
            "Requirement already satisfied: import-ipynb in /usr/local/lib/python3.7/dist-packages (0.1.3)\n"
          ]
        }
      ],
      "source": [
        "!pip install import-ipynb\n",
        "import cv2\n",
        "import glob\n",
        "import scipy\n",
        "import import_ipynb\n",
        "import matplotlib\n",
        "import matplotlib.pyplot as plt\n",
        "import numpy as np\n",
        "import numpy.random\n",
        "import random\n",
        "import os\n",
        "import platform\n",
        "import sklearn.metrics\n",
        "import torch\n",
        "import torch.nn as nn\n",
        "import torchvision\n",
        "import torch.nn.functional as F\n",
        "from torch.utils.data import DataLoader, Dataset\n",
        "import time\n",
        "from IPython.display import clear_output"
      ]
    },
    {
      "cell_type": "markdown",
      "source": [
        "# UNet"
      ],
      "metadata": {
        "id": "fIAxy3-KqChb"
      }
    },
    {
      "cell_type": "markdown",
      "source": [
        "Inspired by https://github.com/kevinlu1211/pytorch-unet-resnet-50-encoder/blob/master/u_net_resnet_50_encoder.py"
      ],
      "metadata": {
        "id": "tC64or3sqScG"
      }
    },
    {
      "cell_type": "code",
      "source": [
        "# Conv -> BN -> ReLU\n",
        "class ConvBlock(nn.Module):\n",
        "\n",
        "    def __init__(self, channels_in, channels_out, padding=1, kernel_size=3, stride=1, act_fct=nn.ReLU()):\n",
        "        super().__init__()\n",
        "        self.conv = nn.Conv2d(channels_in, channels_out, padding=padding, kernel_size=kernel_size, stride=stride)\n",
        "        self.bn = nn.BatchNorm2d(channels_out)\n",
        "        self.act_fct = act_fct\n",
        "        self.dropout = nn.Dropout(0.3)\n",
        "\n",
        "    def forward(self, x):\n",
        "        x = self.conv(x)\n",
        "        x = self.bn(x)\n",
        "        x = self.act_fct(x)\n",
        "        x = self.dropout(x)\n",
        "\n",
        "        return x"
      ],
      "metadata": {
        "id": "kLoUQCquqIuO"
      },
      "execution_count": 2,
      "outputs": []
    },
    {
      "cell_type": "code",
      "source": [
        "# Middle layer of U-net\n",
        "class Bridge(nn.Module):\n",
        "    def __init__(self, channels_in, channels_out):\n",
        "        super().__init__()\n",
        "        self.max_pool = nn.MaxPool2d(kernel_size=3, stride=2, padding=1)\n",
        "        self.conv1 = ConvBlock(channels_in, channels_out)\n",
        "        self.conv2 = ConvBlock(channels_out, channels_out)\n",
        "\n",
        "    def forward(self, x):\n",
        "        x = self.max_pool(x)\n",
        "        x = self.conv1(x)\n",
        "        x = self.conv2(x)\n",
        "        return x"
      ],
      "metadata": {
        "id": "I2Q5M052qUb4"
      },
      "execution_count": 3,
      "outputs": []
    },
    {
      "cell_type": "code",
      "source": [
        "# Middle layer of U-net (no max pooling)\n",
        "class Bridge_no_pool(nn.Module):\n",
        "    def __init__(self, channels_in, channels_out):\n",
        "        super().__init__()\n",
        "        self.conv1 = ConvBlock(channels_in, channels_out)\n",
        "        self.conv2 = ConvBlock(channels_out, channels_out)\n",
        "\n",
        "    def forward(self, x):\n",
        "        x = self.conv1(x)\n",
        "        x = self.conv2(x)\n",
        "        return x"
      ],
      "metadata": {
        "id": "hsCsCORDqXon"
      },
      "execution_count": 4,
      "outputs": []
    },
    {
      "cell_type": "code",
      "source": [
        "# Upsample -> Concatenate -> ConvBlock -> ConvBlock\n",
        "class UpBlock(nn.Module):\n",
        "\n",
        "    def __init__(self, channels_in, channels_out, up_channels_in=None, up_channels_out=None):\n",
        "        super().__init__()\n",
        "\n",
        "        if up_channels_in is None:\n",
        "            up_channels_in = channels_in\n",
        "        if up_channels_out is None:\n",
        "            up_channels_out = channels_out\n",
        "\n",
        "        # Double the resolution\n",
        "        self.upsample = nn.ConvTranspose2d(up_channels_in, up_channels_out, kernel_size=2, stride=2)\n",
        "\n",
        "        self.conv_block_1 = ConvBlock(channels_in, channels_out)\n",
        "        self.conv_block_2 = ConvBlock(channels_out, channels_out)\n",
        "\n",
        "    def forward(self, x_up, x_down):\n",
        "        x = self.upsample(x_up)\n",
        "        x = torch.cat([x, x_down], 1)\n",
        "        x = self.conv_block_1(x)\n",
        "        x = self.conv_block_2(x)\n",
        "        return x"
      ],
      "metadata": {
        "id": "cantzOuYqY-W"
      },
      "execution_count": 5,
      "outputs": []
    },
    {
      "cell_type": "code",
      "source": [
        "class UNet50(nn.Module):\n",
        "    DEPTH = 6\n",
        "\n",
        "    def __init__(self, n_classes,rgb=True):\n",
        "        super().__init__()\n",
        "        self.rgb = rgb\n",
        "        resnet = torchvision.models.resnet.resnet50(pretrained=True)\n",
        "        blocks_up = []\n",
        "        blocks_down = []\n",
        "        self.conv0 = torch.nn.Conv2d(1,3,1,1)\n",
        "        self.input_block = nn.Sequential(*list(resnet.children()))[:3]\n",
        "        self.input_pool = list(resnet.children())[3]\n",
        "        \n",
        "        for bottleneck in list(resnet.children()):\n",
        "            if isinstance(bottleneck, nn.Sequential):\n",
        "                blocks_down.append(bottleneck)\n",
        "        self.blocks_down = nn.ModuleList(blocks_down)\n",
        "\n",
        "        self.bridge = Bridge(2048, 4096)\n",
        "\n",
        "        blocks_up.append(UpBlock(4096, 2048))\n",
        "        blocks_up.append(UpBlock(2048, 1024))\n",
        "        blocks_up.append(UpBlock(1024, 512))\n",
        "        blocks_up.append(UpBlock(512, 256))\n",
        "        blocks_up.append(UpBlock(channels_in=128 + 64, channels_out=128, up_channels_in=256, up_channels_out=128))\n",
        "        blocks_up.append(UpBlock(channels_in=64 + 3, channels_out=64, up_channels_in=128, up_channels_out=64))\n",
        "        self.blocks_up = nn.ModuleList(blocks_up)\n",
        "\n",
        "        self.out = nn.Conv2d(64, n_classes, kernel_size=1, stride=1)\n",
        "\n",
        "        self.softmax = nn.Softmax2d()\n",
        "\n",
        "    def forward(self, x):\n",
        "        if not self.rgb:\n",
        "            x = self.conv0(x)\n",
        "        pre_pools = dict()\n",
        "        pre_pools[f\"layer_0\"] = x\n",
        "        x = self.input_block(x)\n",
        "        pre_pools[f\"layer_1\"] = x\n",
        "        x = self.input_pool(x)\n",
        "\n",
        "        for i, block in enumerate(self.blocks_down, 2):\n",
        "            x = block(x)\n",
        "            key = f\"layer_{i}\"\n",
        "            pre_pools[key] = x\n",
        "\n",
        "        x = self.bridge(x)\n",
        "\n",
        "        for i, block in enumerate(self.blocks_up, 1):\n",
        "            key = f\"layer_{UNet50.DEPTH - i}\"\n",
        "            x = block(x, pre_pools[key])\n",
        "\n",
        "        x = self.out(x)\n",
        "        x = self.softmax(x)\n",
        "        del pre_pools\n",
        "        return x"
      ],
      "metadata": {
        "id": "5KzozXsiqZps"
      },
      "execution_count": 6,
      "outputs": []
    },
    {
      "cell_type": "code",
      "source": [
        "class UNet18(nn.Module):\n",
        "  DEPTH = 6\n",
        "\n",
        "  def __init__(self, n_classes, rgb = True):\n",
        "    super().__init__()\n",
        "    \n",
        "    blocks_up = []\n",
        "    blocks_down = []\n",
        "    resnet = torchvision.models.resnet.resnet18(pretrained=True)\n",
        "\n",
        "    self.rgb = rgb\n",
        "    self.conv0 = torch.nn.Conv2d(1,3,1,1)\n",
        "    self.input_block = nn.Sequential(*list(resnet.children()))[:3]\n",
        "    self.input_pool = list(resnet.children())[3]\n",
        "\n",
        "    # Down blocks\n",
        "    for bottleneck in list(resnet.children()):\n",
        "      if isinstance(bottleneck, nn.Sequential):\n",
        "        blocks_down.append(bottleneck)\n",
        "    self.blocks_down = nn.ModuleList(blocks_down)\n",
        "\n",
        "    # Bridge\n",
        "    self.bridge = Bridge_no_pool(512, 512)\n",
        "\n",
        "    # Up blocks\n",
        "    blocks_up.append(UpBlock(512, 256))\n",
        "    blocks_up.append(UpBlock(256, 128))\n",
        "    blocks_up.append(UpBlock(128, 64))\n",
        "    blocks_up.append(UpBlock(channels_in=128, channels_out=64, up_channels_in=64, up_channels_out=64))\n",
        "    blocks_up.append(UpBlock(channels_in=64 + 3, channels_out=64, up_channels_in=64, up_channels_out=64))\n",
        "    self.blocks_up = nn.ModuleList(blocks_up)\n",
        "\n",
        "    self.out = nn.Conv2d(64, n_classes, kernel_size=1, stride=1)\n",
        "    self.softmax = nn.Softmax2d()\n",
        "\n",
        "  def forward(self, x):\n",
        "    if not self.rgb:\n",
        "      x = self.conv0(x)\n",
        "    pre_pools = dict()\n",
        "    pre_pools[f\"layer_0\"] = x\n",
        "    x = self.input_block(x)\n",
        "    pre_pools[f\"layer_1\"] = x\n",
        "    x = self.input_pool(x)\n",
        "\n",
        "    for i, block in enumerate(self.blocks_down, 2):\n",
        "      x = block(x)\n",
        "      key = f\"layer_{i}\"\n",
        "      pre_pools[key] = x\n",
        "\n",
        "    x = self.bridge(x)\n",
        "\n",
        "    for i, block in enumerate(self.blocks_up, 1):\n",
        "      key = f\"layer_{UNet50.DEPTH - 1 - i}\"\n",
        "      x = block(x, pre_pools[key])\n",
        "\n",
        "    x = self.out(x)\n",
        "    x = self.softmax(x)\n",
        "    del pre_pools\n",
        "    return x\n",
        "    "
      ],
      "metadata": {
        "id": "cupFOi2rqe2h"
      },
      "execution_count": 7,
      "outputs": []
    },
    {
      "cell_type": "markdown",
      "source": [
        "# Performance metric"
      ],
      "metadata": {
        "id": "sjSXKvTdqgyT"
      }
    },
    {
      "cell_type": "code",
      "source": [
        "class DiceLoss(nn.Module):\n",
        "    def __init__(self, weight=None, size_average=True):\n",
        "        super(DiceLoss, self).__init__()\n",
        "\n",
        "    def forward(self, inputs, targets, smooth=1):\n",
        "        # comment out if your model contains a sigmoid or equivalent activation layer\n",
        "        inputs = torch.sigmoid(inputs)\n",
        "\n",
        "        # flatten label and prediction tensors\n",
        "        inputs = inputs.view(-1)\n",
        "        targets = targets.view(-1)\n",
        "\n",
        "        intersection = (inputs * targets).sum()\n",
        "        dice = (2. * intersection + smooth) / (inputs.sum() + targets.sum() + smooth)\n",
        "\n",
        "        return 1 - dice"
      ],
      "metadata": {
        "id": "OFb3tb17qjJx"
      },
      "execution_count": 8,
      "outputs": []
    },
    {
      "cell_type": "code",
      "source": [
        "def Dicecoeff(prediction,label):\n",
        "  dice = 0\n",
        "  for i in range(prediction.shape[0]):\n",
        "    pred1 = one_hot_encode(np.argmax(prediction[i],axis=0))\n",
        "    intersection = np.sum((pred1 * label[i]))\n",
        "    dice += (2*intersection+1)/(pred1.sum()+label[i].sum()+1)\n",
        "  \n",
        "  return dice/prediction.shape[0]"
      ],
      "metadata": {
        "id": "VZoHA3hPt-NE"
      },
      "execution_count": 9,
      "outputs": []
    },
    {
      "cell_type": "code",
      "source": [
        "ALPHA = 0.5  # < 0.5 penalises FP more, > 0.5 penalises FN more\n",
        "CE_RATIO = 0.5  # weighted contribution of modified CE loss compared to Dice loss\n",
        "\n",
        "class ComboLoss(nn.Module):\n",
        "    def __init__(self, weight=None, size_average=True):\n",
        "        super(ComboLoss, self).__init__()\n",
        "\n",
        "    def forward(self, inputs, targets, smooth=1, ALPHA=ALPHA, CE_RATIO=CE_RATIO, eps=1e-9):\n",
        "        # flatten label and prediction tensors\n",
        "        inputs = inputs.view(-1)\n",
        "        targets = targets.view(-1)\n",
        "\n",
        "        # True Positives, False Positives & False Negatives\n",
        "        intersection = (inputs * targets).sum()\n",
        "        dice = (2. * intersection + smooth) / (inputs.sum() + targets.sum() + smooth)\n",
        "\n",
        "        inputs = torch.clamp(inputs, eps, 1.0 - eps)\n",
        "        out = - (ALPHA * ((targets * torch.log(inputs)) + ((1 - ALPHA) * (1.0 - targets) * torch.log(1.0 - inputs))))\n",
        "        weighted_ce = out.mean(-1)\n",
        "        combo = (CE_RATIO * weighted_ce) - ((1 - CE_RATIO) * dice)\n",
        "\n",
        "        return combo"
      ],
      "metadata": {
        "id": "heXIwd5OquS2"
      },
      "execution_count": 10,
      "outputs": []
    },
    {
      "cell_type": "code",
      "source": [
        "def IoU_score(target, prediction,threshold=0.9,special=False):\n",
        "  ioulst = []\n",
        "  correct = []\n",
        "  for j in range(target.shape[0]):\n",
        "    if special:\n",
        "      tar1 = np.sum(target[j],axis=0).flatten()\n",
        "    else:\n",
        "      tar1 = one_hot2_2d(target[j])[0].flatten()\n",
        "    pred1 = np.argmax(prediction[j],axis=0).flatten()\n",
        "\n",
        "    iou = sklearn.metrics.jaccard_score(tar1,pred1,average='weighted')\n",
        "    if iou>=threshold:\n",
        "      correct.append(1)\n",
        "    else:\n",
        "      correct.append(0)\n",
        "\n",
        "    ioulst.append(iou)\n",
        "  return np.mean(ioulst),sum(correct)"
      ],
      "metadata": {
        "id": "8t5RXSDPq-Rm"
      },
      "execution_count": 11,
      "outputs": []
    },
    {
      "cell_type": "code",
      "source": [
        "def confidenceinterval(s):\n",
        "    confidence_level = 0.95\n",
        "    degrees_freedom = s.size - 1\n",
        "    sample_mean = np.mean(s)\n",
        "    sample_standard_error = scipy.stats.sem(s)\n",
        "    confidence_interval = scipy.stats.t.interval(confidence_level, degrees_freedom, sample_mean, sample_standard_error)\n",
        "    \n",
        "    return confidence_interval"
      ],
      "metadata": {
        "id": "YwTErviUxHSr"
      },
      "execution_count": 12,
      "outputs": []
    },
    {
      "cell_type": "markdown",
      "source": [
        "# Load data"
      ],
      "metadata": {
        "id": "ZvQcfha7rVD8"
      }
    },
    {
      "cell_type": "code",
      "source": [
        "def color_correction(img):\n",
        "    img_new = np.zeros(img.shape)\n",
        "    img_new[0,:,:] = img[0,:,:]+ 0.485 / 0.229\n",
        "    img_new[1,:,:] = img[1,:,:] + 0.456 / 0.224\n",
        "    img_new[2,:,:] = img[2,:,:]+ 0.406 / 0.225\n",
        "    return img_new"
      ],
      "metadata": {
        "id": "A7saNs6nsvo_"
      },
      "execution_count": 13,
      "outputs": []
    },
    {
      "cell_type": "code",
      "source": [
        "def feature_scaling(img):\n",
        "    img = (img - np.min(img)) / (-np.min(img) + np.max(img))\n",
        "    return img"
      ],
      "metadata": {
        "id": "o1tuMq5osEOC"
      },
      "execution_count": 14,
      "outputs": []
    },
    {
      "cell_type": "code",
      "source": [
        "def scale(img, label):\n",
        "    if img.shape[0] == 3:\n",
        "        img = img.transpose([2, 1, 0])\n",
        "        rows, cols, _ = img.shape\n",
        "    else:\n",
        "        rows, cols = img.shape\n",
        "\n",
        "    if label.shape[0] == 9:\n",
        "        label = one_hot2_2d(label)\n",
        "    label = label[0]\n",
        "    scaling_factor = random.uniform(0.9, 1.1)\n",
        "    res = cv2.resize(img, (int(scaling_factor * rows), int(scaling_factor * cols)), interpolation=cv2.INTER_LINEAR)\n",
        "    res_label = cv2.resize(label, (int(scaling_factor * rows), int(scaling_factor * cols)),\n",
        "                           interpolation=cv2.INTER_LINEAR)\n",
        "    newimg = np.zeros(img.shape)\n",
        "    newlabel = np.zeros(label.shape)\n",
        "    if res.shape[1] < newimg.shape[1]:\n",
        "        newimg[0:res.shape[0], 0:res.shape[1]] = res\n",
        "        newlabel[0:res.shape[0], 0:res.shape[1]] = res_label\n",
        "    else:\n",
        "        newimg = res[0:newimg.shape[0], 0:newimg.shape[1]]\n",
        "        newlabel = res_label[0:newimg.shape[0], 0:newimg.shape[1]]\n",
        "\n",
        "    newlabel = np.round(newlabel)\n",
        "    if newimg.shape[-1] == 3:\n",
        "        return newimg.transpose([2, 1, 0]), newlabel\n",
        "\n",
        "    else:\n",
        "        return newimg, newlabel\n"
      ],
      "metadata": {
        "id": "Fhy-3uWjs9Zl"
      },
      "execution_count": 15,
      "outputs": []
    },
    {
      "cell_type": "code",
      "source": [
        "def translate(img, label):\n",
        "    if img.shape[0] == 3:\n",
        "        img = img.transpose([2, 1, 0])\n",
        "        rows, cols, _ = img.shape\n",
        "    else:\n",
        "        rows, cols = img.shape\n",
        "    if label.shape[0] == 9:\n",
        "        label = one_hot2_2d(label)\n",
        "    label = label[0]\n",
        "    dx = random.uniform(-30, 30)\n",
        "    dy = random.uniform(-30, 30)\n",
        "    M = np.float32([[1, 0, dx], [0, 1, dy]])\n",
        "    dst = cv2.warpAffine(img, M, (cols, rows))\n",
        "    newlabel = cv2.warpAffine(label, M, (cols, rows))\n",
        "    if dst.shape[-1] == 3:\n",
        "        return dst.transpose([2, 1, 0]), newlabel\n",
        "    else:\n",
        "        return dst, newlabel"
      ],
      "metadata": {
        "id": "clt_m9qvtDhV"
      },
      "execution_count": 16,
      "outputs": []
    },
    {
      "cell_type": "code",
      "source": [
        "def rotate(img, label):\n",
        "    if img.shape[0] == 3:\n",
        "        img = img.transpose([2, 1, 0])\n",
        "        rows, cols, _ = img.shape\n",
        "    else:\n",
        "        rows, cols = img.shape\n",
        "    if label.shape[0] == 9:\n",
        "        label = one_hot2_2d(label)\n",
        "\n",
        "    label = label[0]\n",
        "    theta = random.uniform(-20, 20)\n",
        "    M = cv2.getRotationMatrix2D(((cols - 1) / 2.0, (rows - 1) / 2.0), theta, 1)\n",
        "    dst = cv2.warpAffine(img, M, (cols, rows))\n",
        "    newlabel = cv2.warpAffine(label, M, (cols, rows))\n",
        "    if dst.shape[-1] == 3:\n",
        "        return dst.transpose([2, 1, 0]), newlabel\n",
        "    else:\n",
        "        return dst, newlabel"
      ],
      "metadata": {
        "id": "2bHEEweHtB-k"
      },
      "execution_count": 17,
      "outputs": []
    },
    {
      "cell_type": "code",
      "source": [
        "def shear(img, label):\n",
        "    if img.shape[0] == 3:\n",
        "        img = img.transpose([2, 1, 0])\n",
        "        rows, cols, _ = img.shape\n",
        "    else:\n",
        "        rows, cols = img.shape\n",
        "    if label.shape[0] == 9:\n",
        "        label = one_hot2_2d(label)\n",
        "    label = label[0]\n",
        "\n",
        "    shx = random.uniform(-0.1, 0.1)\n",
        "    shy = random.uniform(-0.1, 0.1)\n",
        "    M = np.float32([[1, shx, 0],\n",
        "                    [shy, 1, 0],\n",
        "                    [0, 0, 1]])\n",
        "    # M = cv2.getAffineTransform(pts1, pts2)\n",
        "    dst = cv2.warpPerspective(img, M, (cols, rows))\n",
        "    newlabel = cv2.warpPerspective(label, M, (cols, rows))\n",
        "    if dst.shape[-1] == 3:\n",
        "        return dst.transpose([2, 1, 0]), newlabel\n",
        "    else:\n",
        "        return dst, newlabel"
      ],
      "metadata": {
        "id": "_rMKunwcs_8-"
      },
      "execution_count": 18,
      "outputs": []
    },
    {
      "cell_type": "code",
      "source": [
        "def one_hot2_2d(label):\n",
        "    for i in range(9):\n",
        "        label[i] = label[i]*i\n",
        "    new_label = np.sum(label,axis=0)\n",
        "    new_label.astype(np.uint8)\n",
        "    end_label = np.zeros((1,label.shape[-2],label.shape[-1]))\n",
        "    end_label[0] = new_label\n",
        "    return end_label"
      ],
      "metadata": {
        "id": "HHfjrBhsszMK"
      },
      "execution_count": 19,
      "outputs": []
    },
    {
      "cell_type": "code",
      "source": [
        "def one_hot_encode(img=None, imgs=None):\n",
        "    if img is None:\n",
        "        num_pict = imgs.shape[0]\n",
        "        Y = np.zeros((num_pict, 9, 256, 256))\n",
        "        imgs = np.round(imgs)\n",
        "        imgs = imgs.astype('int8')\n",
        "        for i in range(num_pict):\n",
        "            for j in range(9):\n",
        "                Y[i, j, :, :] = np.where(imgs[i] == j, 1, 0)\n",
        "    elif imgs is None:\n",
        "        Y = np.zeros((9, 256, 256))\n",
        "        img = np.round(img)\n",
        "        img = img.astype('int8')\n",
        "        for j in range(9):\n",
        "            #\n",
        "            Y[ j, :, :] = np.where(img == j, 1, 0)\n",
        "    else:\n",
        "        raise Exception('only one of the two may be given')\n",
        "    return Y"
      ],
      "metadata": {
        "id": "bI2UNGxntMkq"
      },
      "execution_count": 20,
      "outputs": []
    },
    {
      "cell_type": "code",
      "source": [
        "class CustomDataset(Dataset):\n",
        "    def __init__(self, data, labels, transform_arr=None, transform_labels=None, one_hot=False):\n",
        "        if transform_arr is None:\n",
        "            self.trans = data.copy()\n",
        "            self.trans_labels = labels.copy()\n",
        "        else:\n",
        "            self.trans = transform_arr\n",
        "            self.trans_labels = transform_labels\n",
        "        self.labels = labels\n",
        "        self.data = data\n",
        "        self.grayed = False\n",
        "        self.one_hot = one_hot\n",
        "        # self.backupx = data.copy()\n",
        "        # self.backupy = labels.copy()\n",
        "\n",
        "    def __len__(self):\n",
        "        return len(self.labels)\n",
        "\n",
        "    def __getitem__(self, idx):\n",
        "        label = self.labels[idx]\n",
        "        data = self.data[idx]\n",
        "        return data, label\n",
        "\n",
        "    def grayscale(self):\n",
        "        self.grayed = True\n",
        "\n",
        "        img_arr = np.zeros([self.data.shape[0] + self.trans.shape[0]] + list(self.data.shape[1::]))\n",
        "\n",
        "        img_arr[0:self.data.shape[0]] = self.data.copy()\n",
        "        img_arr[self.data.shape[0]::] = self.trans.copy()\n",
        "        self.data = np.zeros([self.data.shape[0], 1, self.data.shape[2], self.data.shape[3]])\n",
        "        self.trans = np.zeros([self.trans.shape[0], 1, self.trans.shape[2], self.trans.shape[3]])\n",
        "        for i in range(len(img_arr)):\n",
        "            img_arr[i] = feature_scaling(img_arr[i])\n",
        "            img = 0.299 * img_arr[i, 0] + 0.587 * img_arr[i, 1] + 0.114 * img_arr[i, 2]\n",
        "            img = feature_scaling(img)\n",
        "            if i < self.data.shape[0]:\n",
        "                self.data[i, 0] = img\n",
        "            else:\n",
        "                self.trans[i - self.data.shape[0], 0] = img\n",
        "\n",
        "    def gray_gamma(self, gamma=1.2, show=0):\n",
        "        \"\"\"\n",
        "        this functions raises every individual pixel to a desired power. positive gammas enlarges contrast at brighter parts, lower gammas enlar contrast for the darker parts\n",
        "        :param gamma: the exponent\n",
        "        :param show: default is false if true it will show every picture to evaluate it yourself, shut the program manually after seen the desired amount.\n",
        "        \"\"\"\n",
        "        self.grayed = True\n",
        "\n",
        "        img_arr = np.zeros([self.data.shape[0] + self.trans.shape[0]] + list(self.data.shape[1::]))\n",
        "\n",
        "        img_arr[0:self.data.shape[0]] = self.data.copy()\n",
        "        img_arr[self.data.shape[0]::] = self.trans.copy()\n",
        "        self.data = np.zeros([self.data.shape[0], 1, self.data.shape[2], self.data.shape[3]])\n",
        "        self.trans = np.zeros([self.trans.shape[0], 1, self.trans.shape[2], self.trans.shape[3]])\n",
        "        for i in range(len(img_arr)):\n",
        "            img_arr[i] = feature_scaling(img_arr[i])\n",
        "            img = 0.299 * img_arr[i, 0] + 0.587 * img_arr[i, 1] + 0.114 * img_arr[i, 2]\n",
        "            img = feature_scaling(img)\n",
        "            img = img ** (gamma)\n",
        "            if i < self.data.shape[0]:\n",
        "                self.data[i, 0] = img\n",
        "            else:\n",
        "                self.trans[i - self.data.shape[0], 0] = img\n",
        "\n",
        "            if i < show:\n",
        "                cv2.imshow('', img)\n",
        "                cv2.waitKey(0)\n",
        "                cv2.destroyAllWindows()\n",
        "\n",
        "    def gray_gamma_enhanced(self, show=0, method='log', a=-1):\n",
        "        \"\"\"\n",
        "        this functions raises every individual pixel to a desired power. positive gammas enlarges contrast at brighter parts, lower gammas enlar contrast for the darker parts\n",
        "        Difference with normal gamma is that this functions determines a gamma for every image based on their avarage pixel values\n",
        "        a is used to scale the gammas. negative a means that average dark picture will will get increased contrast lighter part end vice versa.\n",
        "        :param a: gamma = a*gamma+b (with condition that b=1-1/2*a) only used if method is linear\n",
        "        :param method is a string can be linear or log if log the arg a is neglected and gamma is defined to get the average to 0.5\n",
        "        :param show: default is false if true it will show every picture to evaluate it yourself, shut the program manually after seen the desired amount.\n",
        "        \"\"\"\n",
        "        self.grayed = True\n",
        "\n",
        "        method = method.lower()\n",
        "        b = 1 - (0.5 * a)\n",
        "        img_arr = np.zeros([self.data.shape[0] + self.trans.shape[0]] + list(self.data.shape[1::]))\n",
        "        img_arr[0:self.data.shape[0]] = self.data.copy()\n",
        "        img_arr[self.data.shape[0]::] = self.trans.copy()\n",
        "        self.data = np.zeros([self.data.shape[0], 1, self.data.shape[2], self.data.shape[3]])\n",
        "        self.trans = np.zeros([self.trans.shape[0], 1, self.trans.shape[2], self.trans.shape[3]])\n",
        "        for i in range(len(img_arr)):\n",
        "            img_arr[i] = feature_scaling(img_arr[i])\n",
        "            img = 0.299 * img_arr[i, 0] + 0.587 * img_arr[i, 1] + 0.114 * img_arr[i, 2]\n",
        "            img = feature_scaling(img)\n",
        "            mu = img.mean()\n",
        "            if method == 'linear':\n",
        "                gamma = a * mu + b\n",
        "            elif method == 'log':\n",
        "                gamma = np.log(0.5) / np.log(mu)\n",
        "            else:\n",
        "                raise Exception(f'method must be \\'log\\' or \\'linear\\' instead of{method}')\n",
        "            img = img ** (gamma)\n",
        "\n",
        "            if i < self.data.shape[0]:\n",
        "                self.data[i, 0] = img\n",
        "            else:\n",
        "                self.trans[i - self.data.shape[0], 0] = img\n",
        "            if i < show:\n",
        "                cv2.imshow('', img)\n",
        "                cv2.waitKey(0)\n",
        "                cv2.destroyAllWindows()\n",
        "\n",
        "                cv2.imshow('', self.labels[i, 0])\n",
        "                cv2.waitKey(0)\n",
        "                cv2.destroyAllWindows()\n",
        "\n",
        "    def gray_log(self, show=0):\n",
        "        \"\"\"\n",
        "        This will increase contrast of the darker colors.\n",
        "        :param show: default is false if true it will show every picture to evaluate it yourself, shut the program manually after seen the desired amount.\n",
        "        \"\"\"\n",
        "        self.grayed = True\n",
        "\n",
        "        img_arr = np.zeros([self.data.shape[0] + self.trans.shape[0]] + list(self.data.shape[1::]))\n",
        "\n",
        "        img_arr[0:self.data.shape[0]] = self.data.copy()\n",
        "        img_arr[self.data.shape[0]::] = self.trans.copy()\n",
        "        self.data = np.zeros([self.data.shape[0], 1, self.data.shape[2], self.data.shape[3]])\n",
        "        self.trans = np.zeros([self.trans.shape[0], 1, self.trans.shape[2], self.trans.shape[3]])\n",
        "\n",
        "        for i in range(len(img_arr)):\n",
        "            img_arr[i] = feature_scaling(img_arr[i])\n",
        "            img = 0.299 * img_arr[i, 0] + 0.587 * img_arr[i, 1] + 0.114 * img_arr[i, 2]\n",
        "            img = feature_scaling(img)\n",
        "            img = np.log(1 + img) / (np.log(1 + img.max()))\n",
        "            if i < self.data.shape[0]:\n",
        "                self.data[i, 0] = img\n",
        "            else:\n",
        "                self.trans[i - self.data.shape[0], 0] = img\n",
        "\n",
        "            if i < show:\n",
        "                cv2.imshow('', img)\n",
        "                cv2.waitKey(0)\n",
        "                cv2.destroyAllWindows()\n",
        "\n",
        "\n",
        "    def transforms(self, p_rot=0.1, p_trans=0.1, p_zoom=0.1, p_shear=0.1, show=0):\n",
        "        #get exact number of desired transforms\n",
        "        num_rot = int(p_rot * self.data.shape[0])\n",
        "        num_trans = int(p_trans * self.data.shape[0])\n",
        "        num_zoom = int(p_zoom * self.data.shape[0])\n",
        "        num_shear = int(p_shear * self.data.shape[0])\n",
        "        amount_trans = num_rot+num_trans+num_zoom+num_shear\n",
        "        iter =0\n",
        "        #make array for transforms and to copy data into\n",
        "        copied_dat = self.data.copy()\n",
        "        copied_lab = self.labels.copy()\n",
        "        transform_dat = np.zeros(([amount_trans]+list(self.data.shape[1::])))\n",
        "        transform_lab = np.zeros(([amount_trans]+list(self.labels.shape[1::])))\n",
        "\n",
        "        #get random indexes\n",
        "        idx_dat = list(range(self.data.shape[0]))\n",
        "        random.shuffle(idx_dat)\n",
        "        idxlst_rot = idx_dat[0:num_rot]\n",
        "        idxlst_trans = idx_dat[num_rot:num_rot + num_trans]\n",
        "        idxlst_zoom = idx_dat[num_rot + num_trans:num_rot + num_trans + num_zoom]\n",
        "        idxlst_shear = idx_dat[num_rot + num_trans + num_zoom:num_rot + num_trans + num_zoom + num_shear]\n",
        "\n",
        "        #input of figure transforms should be one 3,256,256 or 256,256 and 9,256,256 or 1,256,256 output is\n",
        "        for i,idx in enumerate(idxlst_rot):\n",
        "            if self.grayed:\n",
        "                transform_dat[iter],temp_lab =  rotate(copied_dat[idx,0],copied_lab[idx])\n",
        "            else:\n",
        "                transform_dat[iter], temp_lab = rotate(copied_dat[idx], copied_lab[idx])\n",
        "            if self.one_hot:\n",
        "                transform_lab[iter] = one_hot_encode(img=temp_lab)\n",
        "            else:\n",
        "                transform_lab[iter,0] = temp_lab\n",
        "\n",
        "            iter += 1\n",
        "\n",
        "\n",
        "        for i, idx in enumerate(idxlst_trans):\n",
        "            if self.grayed:\n",
        "                transform_dat[iter], temp_lab = translate(copied_dat[idx, 0], copied_lab[idx])\n",
        "            else:\n",
        "                transform_dat[iter], temp_lab = translate(copied_dat[idx], copied_lab[idx])\n",
        "            if self.one_hot:\n",
        "                transform_lab[iter] = one_hot_encode(img=temp_lab)\n",
        "            else:\n",
        "                transform_lab[iter, 0] = temp_lab\n",
        "\n",
        "            iter += 1\n",
        "\n",
        "        for i, idx in enumerate(idxlst_zoom):\n",
        "            if self.grayed:\n",
        "                transform_dat[iter], temp_lab = scale(copied_dat[idx, 0], copied_lab[idx])\n",
        "            else:\n",
        "                transform_dat[iter], temp_lab = scale(copied_dat[idx], copied_lab[idx])\n",
        "            if self.one_hot:\n",
        "                transform_lab[iter] = one_hot_encode(img=temp_lab)\n",
        "            else:\n",
        "                transform_lab[iter, 0] = temp_lab\n",
        "\n",
        "            iter += 1\n",
        "\n",
        "        for i, idx in enumerate(idxlst_shear):\n",
        "            if self.grayed:\n",
        "                transform_dat[iter], temp_lab = shear(copied_dat[idx, 0], copied_lab[idx])\n",
        "            else:\n",
        "                transform_dat[iter], temp_lab = shear(copied_dat[idx], copied_lab[idx])\n",
        "            if self.one_hot:\n",
        "                transform_lab[iter] = one_hot_encode(img=temp_lab)\n",
        "            else:\n",
        "                transform_lab[iter, 0] = temp_lab\n",
        "\n",
        "            iter += 1\n",
        "\n",
        "        #combine two array into one!\n",
        "        self.data = np.concatenate((transform_dat,copied_dat),axis=0)\n",
        "        self.labels = np.concatenate((transform_lab, copied_lab), axis=0)\n",
        "        self.amount_transforms = amount_trans\n",
        "\n",
        "    def remove_transforms(self):\n",
        "\n",
        "        self.labels = self.trans_labels.copy()\n",
        "        self.data = self.trans.copy()\n",
        "        self.amount_transforms = 0\n",
        "\n",
        "    def add_transforms(self, p_trans=None, number_trans=None):\n",
        "        if self.trans is not False:\n",
        "            index_list = list(range(self.trans.shape[0]))\n",
        "            random.shuffle(index_list)\n",
        "\n",
        "            # get the desired amount of transformations\n",
        "            if p_trans is None and number_trans is None:\n",
        "                Exception('p_trans or number_trans should be set to a number')\n",
        "                amount = 0\n",
        "            elif p_trans is not None:\n",
        "                amount = int(p_trans * len(index_list))\n",
        "            else:\n",
        "                amount = number_trans\n",
        "\n",
        "            # check that amount is lower than the length of the list\n",
        "            amount = min(amount, len(index_list))\n",
        "\n",
        "            # get random transformed images and add them tyo the self.data variable\n",
        "            newdat = np.zeros([amount + self.data.shape[0]] + list(self.data.shape[1::]))\n",
        "            newlab = np.zeros([amount + self.labels.shape[0]] + list(self.labels.shape[1::]))\n",
        "            index_list = index_list[0:amount]\n",
        "            for iter, idx in enumerate(index_list):\n",
        "                newdat[iter] = self.trans[idx]\n",
        "                newlab[iter] = self.trans_labels[idx]\n",
        "\n",
        "            newlab = newlab.astype('uint8')\n",
        "            newdat[amount::] = self.data.copy()\n",
        "            newlab[amount::] = self.labels.copy()\n",
        "            self.data = newdat.copy()\n",
        "            self.labels = newlab.copy()\n",
        "            self.amount_transforms = amount\n",
        "        else:\n",
        "            raise Exception('To use this function you need to give a transforms array as an input.')\n"
      ],
      "metadata": {
        "id": "_Rol7dWRtRmn"
      },
      "execution_count": 21,
      "outputs": []
    },
    {
      "cell_type": "code",
      "source": [
        "Valid_perc = 0.15\n",
        "\n",
        "# Load in the data\n",
        "#X_train = np.load(f\"data/compressed_data/without_background/X_train,.npy\")\n",
        "#Y_train = np.load(f\"data/compressed_data/without_background/Y_train,.npy\")\n",
        "#X_CAD = np.load(f\"data/compressed_data/with_background/X_cad_rnd.npy\")\n",
        "#Y_CAD = np.load(f\"data/compressed_data/with_background/Y_cad_rnd.npy\")\n",
        "#X_test = np.load(f\"data/compressed_data/with_background/X_test,.npy\")\n",
        "#Y_test = np.load(f\"data/compressed_data/with_background/Y_test,.npy\")\n",
        "\n",
        "X_train = np.random.randint(0, 1, size=(100, 3, 256, 256))\n",
        "Y_train = np.random.randint(0, 1, size=(100, 1, 256, 256))\n",
        "X_CAD = np.random.randint(0, 1, size=(30, 3, 256, 256))\n",
        "Y_CAD = np.random.randint(0, 1, size=(30, 1, 256, 256))\n",
        "X_test = np.random.randint(0, 1, size=(30, 3, 256, 256))\n",
        "Y_test = np.random.randint(0, 1, size=(30, 1, 256, 256))\n",
        "\n",
        "Y_train = one_hot_encode(imgs=Y_train)\n",
        "Y_CAD = one_hot_encode(imgs=Y_CAD)\n",
        "Y_test = one_hot_encode(imgs=Y_test)\n",
        "\n",
        "idx = int(Valid_perc * X_train.shape[0])\n",
        "X_valid = X_train[0:idx]\n",
        "X_train = X_train[idx::]\n",
        "X_train = np.concatenate((X_train, X_CAD), axis=0)\n",
        "\n",
        "Y_valid = Y_train[0:idx]\n",
        "Y_train = Y_train[idx::]\n",
        "Y_train = np.concatenate((Y_train, Y_CAD), axis=0)"
      ],
      "metadata": {
        "id": "hl3VSYZaruls"
      },
      "execution_count": 22,
      "outputs": []
    },
    {
      "cell_type": "code",
      "source": [
        "DS_train = CustomDataset(X_train, Y_train,one_hot=True)\n",
        "DS_valid = CustomDataset(X_valid, Y_valid, one_hot=True)\n",
        "DS_test = CustomDataset(X_test, Y_test, one_hot=True)"
      ],
      "metadata": {
        "id": "hxVDOfKdr_3K"
      },
      "execution_count": 23,
      "outputs": []
    },
    {
      "cell_type": "code",
      "source": [
        "# Perform preprocessing\n",
        "DS_train.gray_gamma_enhanced()\n",
        "DS_valid.gray_gamma_enhanced()\n",
        "DS_test.gray_gamma_enhanced()"
      ],
      "metadata": {
        "colab": {
          "base_uri": "https://localhost:8080/"
        },
        "id": "V9BfZ8qpt1VM",
        "outputId": "2934b04d-d684-4877-ddca-1120a3d0f572"
      },
      "execution_count": 24,
      "outputs": [
        {
          "output_type": "stream",
          "name": "stderr",
          "text": [
            "/usr/local/lib/python3.7/dist-packages/ipykernel_launcher.py:2: RuntimeWarning: invalid value encountered in true_divide\n",
            "  \n"
          ]
        }
      ]
    },
    {
      "cell_type": "markdown",
      "source": [
        "# Prepair training"
      ],
      "metadata": {
        "id": "s0KGYUhiuMk8"
      }
    },
    {
      "cell_type": "code",
      "source": [
        "# Check if GPU is available and functions to convert Tensors to Cuda\n",
        "use_cuda = torch.cuda.is_available()\n",
        "print(\"Running GPU.\") if use_cuda else print(\"No GPU available.\")"
      ],
      "metadata": {
        "colab": {
          "base_uri": "https://localhost:8080/"
        },
        "id": "jYdXiIVpuWSe",
        "outputId": "dac49152-8089-4c63-9b9e-53c763a6cbb9"
      },
      "execution_count": 25,
      "outputs": [
        {
          "output_type": "stream",
          "name": "stdout",
          "text": [
            "Running GPU.\n"
          ]
        }
      ]
    },
    {
      "cell_type": "code",
      "source": [
        "# Load in model\n",
        "%%capture\n",
        "net = UNet50(n_classes=9, rgb=False)\n",
        "net = net.to(torch.float)\n",
        "if use_cuda:\n",
        "    print('converting network to cuda-enabled')\n",
        "    net.cuda()"
      ],
      "metadata": {
        "id": "9FEgealxuYK0"
      },
      "execution_count": 26,
      "outputs": []
    },
    {
      "cell_type": "code",
      "source": [
        "# Create loss function and optimizer\n",
        "criterion = DiceLoss()\n",
        "optimizer = torch.optim.Adam(net.parameters(),lr=5e-5,weight_decay=1e-7)"
      ],
      "metadata": {
        "id": "c0RPTSKuutU4"
      },
      "execution_count": 27,
      "outputs": []
    },
    {
      "cell_type": "code",
      "source": [
        "# Define hyper parameters\n",
        "NUM_EPOCHS = 5\n",
        "check_at = 1"
      ],
      "metadata": {
        "id": "HjzHEDyOuvjx"
      },
      "execution_count": 28,
      "outputs": []
    },
    {
      "cell_type": "markdown",
      "source": [
        "# Helper functions"
      ],
      "metadata": {
        "id": "gLW0HeSrzvy8"
      }
    },
    {
      "cell_type": "code",
      "source": [
        "# Converts tensors to cuda, if available\n",
        "def get_variable(x):\n",
        "    if use_cuda:\n",
        "        return x.cuda()\n",
        "    return x"
      ],
      "metadata": {
        "id": "K3k5vOrCyhWT"
      },
      "execution_count": 29,
      "outputs": []
    },
    {
      "cell_type": "code",
      "source": [
        "# Get numpy array for both cuda and not\n",
        "def get_numpy(x):\n",
        "    if use_cuda:\n",
        "        return x.cpu().data.numpy()\n",
        "    return x.data.numpy()"
      ],
      "metadata": {
        "id": "HHQsRAkFyi3o"
      },
      "execution_count": 30,
      "outputs": []
    },
    {
      "cell_type": "code",
      "source": [
        "# Mask should not be one hot encoded (2d)\n",
        "def plotMaskOnImage(img, mask, remove: int,add_name='none'):\n",
        "\n",
        "    # Mask out 0's\n",
        "    mask = np.ma.masked_where(mask == 0, mask)\n",
        "\n",
        "    fig, ax = plt.subplots()\n",
        "    if len(img.shape)>2:\n",
        "      ax.imshow(np.moveaxis(img, [0], [-1]))\n",
        "    else:\n",
        "      pass\n",
        "      ax.imshow(img,'gray')\n",
        "    ax.imshow(np.squeeze(mask),'gist_ncar')\n",
        "    plt.show()"
      ],
      "metadata": {
        "id": "LenjuxOazxh5"
      },
      "execution_count": 35,
      "outputs": []
    },
    {
      "cell_type": "markdown",
      "source": [
        "# Train model"
      ],
      "metadata": {
        "id": "6CCiROA7u18_"
      }
    },
    {
      "cell_type": "code",
      "source": [
        "# Define list to stor intermediat results\n",
        "valid_iter = []\n",
        "valid_loss = []\n",
        "valid_iou = []\n",
        "valid_correct = []\n",
        "\n",
        "train_iter = []\n",
        "train_loss = []\n",
        "train_iou = []\n",
        "\n",
        "DL_valid = DataLoader(DS_valid)\n",
        "\n",
        "# Training loop\n",
        "net.train()\n",
        "for epoch in range(NUM_EPOCHS):\n",
        "\n",
        "    print(f\"train epoch {epoch}\")\n",
        "    # transform data and add it to the dataloader\n",
        "    DS_train.transforms(p_rot=0.1,p_trans=0.1,p_zoom=0.1,p_shear=0.1)\n",
        "    DL_train = DataLoader(DS_train, batch_size=16, shuffle=True)\n",
        "    for i, data in enumerate(DL_train, 0):\n",
        "        net.train()\n",
        "        input = data[0].type(torch.FloatTensor)\n",
        "        target = data[1].type(torch.FloatTensor)\n",
        "\n",
        "        # Tranfer to GPU if possible\n",
        "        input = get_variable(input)\n",
        "        target = get_variable(target)\n",
        "\n",
        "        # Train the network\n",
        "        optimizer.zero_grad()\n",
        "        output = net(input)\n",
        "        loss = criterion(output,target)\n",
        "        loss.backward()\n",
        "        optimizer.step()\n",
        "\n",
        "        # Save space\n",
        "        del input\n",
        "        del target\n",
        "        del output\n",
        "        del loss\n",
        "\n",
        "    # If we want to evaluate\n",
        "    if epoch % check_at == 0:\n",
        "      net.eval()\n",
        "\n",
        "      with torch.no_grad():\n",
        "        # Evaluate training\n",
        "        train_losses, train_ious, train_batches = 0, 0, 0\n",
        "        for i, data in enumerate(DL_train, 0):\n",
        "          input = data[0].type(torch.FloatTensor)\n",
        "          target = data[1].type(torch.FloatTensor)\n",
        "\n",
        "          # Tranfer to GPU if possible\n",
        "          input = get_variable(input)\n",
        "          target = get_variable(target)\n",
        "          \n",
        "          output = net(input)\n",
        "\n",
        "          # Record performance\n",
        "          train_batches += 1\n",
        "          train_losses += criterion(output, target).item()\n",
        "          train_ious += IoU_score(get_numpy(target), get_numpy(output))[0]\n",
        "\n",
        "          # Save space\n",
        "          del input\n",
        "          del target\n",
        "          del output\n",
        "\n",
        "        train_iter.append(epoch)\n",
        "        train_loss.append(train_losses / train_batches)\n",
        "        train_iou.append(train_ious / train_batches)\n",
        "\n",
        "        # Evaluate validation\n",
        "        val_losses, val_ious, val_batches,n_correct = 0, 0, 0, 0\n",
        "        once=True\n",
        "        for i, valid_data in enumerate(DL_valid, 0):\n",
        "            input = valid_data[0].type(torch.FloatTensor)\n",
        "            target = valid_data[1].type(torch.FloatTensor)\n",
        "            \n",
        "            # Tranfer to GPU if possible\n",
        "            input = get_variable(input)\n",
        "            target = get_variable(target)\n",
        "            \n",
        "            output = net(input)\n",
        "            if i>=np.random.randint(0,len(DS_valid)) and once:\n",
        "            #   input1 = input\n",
        "            #   output1 = output\n",
        "              img = one_hot2_2d(get_numpy(output[0]))[0]\n",
        "              img_label = one_hot2_2d(get_numpy(target[0]))[0]\n",
        "              once = False\n",
        "            \n",
        "            # Record performance\n",
        "            val_batches += 1\n",
        "            val_losses += criterion(output, target).item()\n",
        "            val_ious += IoU_score(get_numpy(target), get_numpy(output))[0]\n",
        "            n_correct += IoU_score(get_numpy(target), get_numpy(output))[1]\n",
        "            \n",
        "            # Save space\n",
        "            del input\n",
        "            del target\n",
        "            del output\n",
        "\n",
        "        valid_iter.append(epoch)\n",
        "        valid_loss.append(val_losses / val_batches)\n",
        "        valid_iou.append(val_ious / val_batches)\n",
        "        valid_correct.append(n_correct)\n",
        "        clear_output(wait=True)\n",
        "        fig = plt.figure(figsize=(15,4))\n",
        "        plt.subplot(151)\n",
        "        plt.plot(valid_iter,valid_loss,label='Validation losses')\n",
        "        plt.plot(train_iter,train_loss,label='Training losses')\n",
        "        plt.title('Losses')\n",
        "        plt.legend()\n",
        "\n",
        "        plt.subplot(152)\n",
        "        plt.plot(valid_iter,valid_iou,label='Validation IoU\\'s')\n",
        "        plt.plot(train_iter,train_iou,label='Training IoU\\'s')\n",
        "        plt.title('IoU\\'s')\n",
        "        plt.legend()\n",
        "        \n",
        "        plt.subplot(153)\n",
        "        plt.plot(valid_iter,valid_correct)\n",
        "        plt.title('# of correct validations')\n",
        "\n",
        "        plt.subplot(154)\n",
        "        plt.imshow(img)\n",
        "        plt.title('Prediction made of a validation picture')\n",
        "\n",
        "        plt.subplot(155)\n",
        "        plt.imshow(img_label)\n",
        "        plt.title('Label made of a validation picture')\n",
        "        plt.show()\n",
        "        print(f'At epoch {epoch} Training loss is at {train_loss[-1]} and the IoU is at {train_iou[-1]}%')\n",
        "        print(f'At epoch {epoch} Validation loss is at {valid_loss[-1]} and the IoU is at {valid_iou[-1]}%') \n",
        "    \n",
        "    DS_train.remove_transforms()"
      ],
      "metadata": {
        "colab": {
          "base_uri": "https://localhost:8080/",
          "height": 492
        },
        "id": "9Omet7Xpu3u8",
        "outputId": "0b315c20-757a-4687-c9dc-c8d44deb372b"
      },
      "execution_count": 32,
      "outputs": [
        {
          "output_type": "stream",
          "name": "stderr",
          "text": [
            "/usr/local/lib/python3.7/dist-packages/matplotlib/image.py:452: UserWarning: Warning: converting a masked element to nan.\n",
            "  dv = np.float64(self.norm.vmax) - np.float64(self.norm.vmin)\n",
            "/usr/local/lib/python3.7/dist-packages/matplotlib/image.py:459: UserWarning: Warning: converting a masked element to nan.\n",
            "  a_min = np.float64(newmin)\n",
            "/usr/local/lib/python3.7/dist-packages/matplotlib/image.py:464: UserWarning: Warning: converting a masked element to nan.\n",
            "  a_max = np.float64(newmax)\n",
            "<string>:6: UserWarning: Warning: converting a masked element to nan.\n",
            "/usr/local/lib/python3.7/dist-packages/numpy/core/_asarray.py:83: UserWarning: Warning: converting a masked element to nan.\n",
            "  return array(a, dtype, copy=False, order=order)\n"
          ]
        },
        {
          "output_type": "display_data",
          "data": {
            "image/png": "[encoded data removed]",
            "text/plain": [
              "<Figure size 1080x288 with 5 Axes>"
            ]
          },
          "metadata": {
            "needs_background": "light"
          }
        },
        {
          "output_type": "stream",
          "name": "stdout",
          "text": [
            "At epoch 4 Training loss is at nan and the IoU is at 1.0%\n",
            "At epoch 4 Validation loss is at nan and the IoU is at 1.0%\n"
          ]
        }
      ]
    },
    {
      "cell_type": "code",
      "source": [
        "torch.save(net,'poster_network.pickle')"
      ],
      "metadata": {
        "id": "pAHQjkUXve9F"
      },
      "execution_count": 33,
      "outputs": []
    },
    {
      "cell_type": "code",
      "source": [
        "val_img = 3\n",
        "print(DS_valid.labels[val_img].shape,one_hot2_2d(DS_valid.labels[val_img])[0].shape,DS_valid.data[val_img].shape)\n",
        "# Target \n",
        "plotMaskOnImage(DS_valid.data[val_img,0],one_hot2_2d(DS_valid.labels[val_img])[0],0)\n",
        "\n",
        "# Network output\n",
        "output = np.squeeze(\n",
        "            get_numpy(\n",
        "                net(\n",
        "                    get_variable(\n",
        "                        torch.from_numpy(\n",
        "                            DS_valid.data[val_img][np.newaxis, :, ::]\n",
        "                            ).type(torch.cuda.FloatTensor)\n",
        "                        )\n",
        "                    )\n",
        "                )\n",
        "            )\n",
        "\n",
        "output_2d = np.zeros((256, 256))\n",
        "\n",
        "mistake_arr = np.zeros((256,256))\n",
        "output_2d = np.argmax(output,axis=0)\n",
        "plt.subplot(221)\n",
        "plt.imshow(output_2d)\n",
        "\n",
        "plt.subplot(222)\n",
        "plt.imshow(one_hot2_2d(DS_valid.labels[val_img])[0])\n",
        "\n",
        "plt.subplot(223)\n",
        "plt.imshow(output_2d-one_hot2_2d(DS_valid.labels[val_img])[0])\n",
        "plt.show()\n",
        "\n",
        "print(np.amax(output_2d),np.amax(one_hot2_2d(DS_valid.labels[val_img])[0]))\n",
        "plotMaskOnImage(\n",
        "    DS_valid.data[val_img,0],\n",
        "    output_2d,0)\n",
        "\n",
        "plt.imshow(mistake_arr)\n",
        "plt.show()"
      ],
      "metadata": {
        "colab": {
          "base_uri": "https://localhost:8080/",
          "height": 1000
        },
        "id": "J4rEpo5L0S74",
        "outputId": "6b0be90c-42a1-42c6-e149-bb7a62d688c7"
      },
      "execution_count": 36,
      "outputs": [
        {
          "output_type": "stream",
          "name": "stdout",
          "text": [
            "(9, 256, 256) (256, 256) (1, 256, 256)\n"
          ]
        },
        {
          "output_type": "stream",
          "name": "stderr",
          "text": [
            "/usr/local/lib/python3.7/dist-packages/matplotlib/image.py:452: UserWarning: Warning: converting a masked element to nan.\n",
            "  dv = np.float64(self.norm.vmax) - np.float64(self.norm.vmin)\n",
            "/usr/local/lib/python3.7/dist-packages/matplotlib/image.py:459: UserWarning: Warning: converting a masked element to nan.\n",
            "  a_min = np.float64(newmin)\n",
            "/usr/local/lib/python3.7/dist-packages/matplotlib/image.py:464: UserWarning: Warning: converting a masked element to nan.\n",
            "  a_max = np.float64(newmax)\n",
            "<string>:6: UserWarning: Warning: converting a masked element to nan.\n",
            "/usr/local/lib/python3.7/dist-packages/numpy/core/_asarray.py:83: UserWarning: Warning: converting a masked element to nan.\n",
            "  return array(a, dtype, copy=False, order=order)\n"
          ]
        },
        {
          "output_type": "display_data",
          "data": {
            "image/png": "[encoded data removed]",
            "text/plain": [
              "<Figure size 432x288 with 1 Axes>"
            ]
          },
          "metadata": {
            "needs_background": "light"
          }
        },
        {
          "output_type": "display_data",
          "data": {
            "image/png": "[encoded data removed]",
            "text/plain": [
              "<Figure size 432x288 with 3 Axes>"
            ]
          },
          "metadata": {
            "needs_background": "light"
          }
        },
        {
          "output_type": "stream",
          "name": "stdout",
          "text": [
            "0 0.0\n"
          ]
        },
        {
          "output_type": "display_data",
          "data": {
            "image/png": "[encoded data removed]",
            "text/plain": [
              "<Figure size 432x288 with 1 Axes>"
            ]
          },
          "metadata": {
            "needs_background": "light"
          }
        },
        {
          "output_type": "display_data",
          "data": {
            "image/png": "[encoded data removed]",
            "text/plain": [
              "<Figure size 432x288 with 1 Axes>"
            ]
          },
          "metadata": {
            "needs_background": "light"
          }
        }
      ]
    },
    {
      "cell_type": "code",
      "source": [
        "net.eval()\n",
        "input = DS_train.data[1].reshape([1,1,256,256])\n",
        "input = get_variable(torch.tensor(input).type(torch.FloatTensor))\n",
        "output = net(input)\n",
        "\n",
        "img_label = one_hot2_2d(get_numpy(output)[0])\n",
        "img_pred = one_hot2_2d(DS_train.labels[1])\n",
        "\n",
        "plt.subplot(131)\n",
        "plt.imshow(img_label[0])\n",
        "\n",
        "plt.subplot(132)\n",
        "plt.imshow(img_pred[0])\n",
        "\n",
        "plt.subplot(133)\n",
        "plt.imshow(DS_train.data[1,0]-np.min(DS_train.data[1]))\n",
        "plt.show()"
      ],
      "metadata": {
        "colab": {
          "base_uri": "https://localhost:8080/",
          "height": 326
        },
        "id": "oel6ACoJ0Too",
        "outputId": "e2d7c605-dea8-464f-bc0e-354db8742cce"
      },
      "execution_count": 43,
      "outputs": [
        {
          "output_type": "stream",
          "name": "stderr",
          "text": [
            "/usr/local/lib/python3.7/dist-packages/matplotlib/image.py:452: UserWarning: Warning: converting a masked element to nan.\n",
            "  dv = np.float64(self.norm.vmax) - np.float64(self.norm.vmin)\n",
            "/usr/local/lib/python3.7/dist-packages/matplotlib/image.py:459: UserWarning: Warning: converting a masked element to nan.\n",
            "  a_min = np.float64(newmin)\n",
            "/usr/local/lib/python3.7/dist-packages/matplotlib/image.py:464: UserWarning: Warning: converting a masked element to nan.\n",
            "  a_max = np.float64(newmax)\n",
            "<string>:6: UserWarning: Warning: converting a masked element to nan.\n",
            "/usr/local/lib/python3.7/dist-packages/numpy/core/_asarray.py:83: UserWarning: Warning: converting a masked element to nan.\n",
            "  return array(a, dtype, copy=False, order=order)\n"
          ]
        },
        {
          "output_type": "display_data",
          "data": {
            "image/png": "[encoded data removed]",
            "text/plain": [
              "<Figure size 432x288 with 3 Axes>"
            ]
          },
          "metadata": {
            "needs_background": "light"
          }
        }
      ]
    },
    {
      "cell_type": "markdown",
      "source": [
        "# Test model"
      ],
      "metadata": {
        "id": "3lyE_RBay_eo"
      }
    },
    {
      "cell_type": "code",
      "source": [
        "# Load in model\n",
        "%%capture\n",
        "net = torch.load('poster_network.pickle')\n",
        "net = net.to(torch.float)\n",
        "if use_cuda:\n",
        "    print('converting network to cuda-enabled')\n",
        "    net.cuda()"
      ],
      "metadata": {
        "id": "tfzU2rGIzETr"
      },
      "execution_count": 44,
      "outputs": []
    },
    {
      "cell_type": "code",
      "source": [
        "DS_test.remove_transforms()\n",
        "DS_valid.remove_transforms()\n",
        "DL_try = DataLoader(DS_valid)\n",
        "\n",
        "dice = []\n",
        "ioulst =[]\n",
        "n_correct =[]\n",
        "# trained_model.cuda()\n",
        "for i,data in enumerate(DL_try):\n",
        "  input = data[0].type(torch.FloatTensor)\n",
        "  target = data[1].type(torch.FloatTensor)\n",
        "  \n",
        "  # Tranfer to GPU if possible\n",
        "  input = get_variable(input)\n",
        "  target = get_variable(target)\n",
        "  \n",
        "  output = net(input)\n",
        "  dice.append(Dicecoeff(get_numpy(output),get_numpy(target)))\n",
        "  ioulst.append(IoU_score(get_numpy(target),get_numpy(output),threshold=0.8)[0])\n",
        "  n_correct.append(IoU_score(get_numpy(target),get_numpy(output),threshold=0.8)[1])\n",
        "print('average Dice score:',np.mean(dice))\n",
        "print('average IoU score:',np.mean(ioulst))\n",
        "print(sum(n_correct),'out of ',len(n_correct))\n",
        "\n",
        "print(ioulst)\n",
        "\n",
        "print(confidenceinterval(np.array(ioulst)))\n",
        "print(confidenceinterval(np.array(dice)))"
      ],
      "metadata": {
        "colab": {
          "base_uri": "https://localhost:8080/"
        },
        "id": "iAs-1nPyzKd9",
        "outputId": "48ac1700-be11-4251-9619-08843325aa8d"
      },
      "execution_count": 45,
      "outputs": [
        {
          "output_type": "stream",
          "name": "stdout",
          "text": [
            "average Dice score: 1.0\n",
            "average IoU score: 1.0\n",
            "15 out of  15\n",
            "[1.0, 1.0, 1.0, 1.0, 1.0, 1.0, 1.0, 1.0, 1.0, 1.0, 1.0, 1.0, 1.0, 1.0, 1.0]\n",
            "(nan, nan)\n",
            "(nan, nan)\n"
          ]
        },
        {
          "output_type": "stream",
          "name": "stderr",
          "text": [
            "/usr/local/lib/python3.7/dist-packages/scipy/stats/_distn_infrastructure.py:2003: RuntimeWarning: invalid value encountered in multiply\n",
            "  lower_bound = _a * scale + loc\n",
            "/usr/local/lib/python3.7/dist-packages/scipy/stats/_distn_infrastructure.py:2004: RuntimeWarning: invalid value encountered in multiply\n",
            "  upper_bound = _b * scale + loc\n"
          ]
        }
      ]
    },
    {
      "cell_type": "code",
      "source": [
        "idx = 10\n",
        "DS_valid.remove_transforms()\n",
        "DL_valid = DataLoader(DS_valid)\n",
        "iou_arr = np.zeros((20,9,9))\n",
        "for idx, data in enumerate(DL_valid):\n",
        "  if idx<20:\n",
        "    input = data[0].type(torch.FloatTensor)\n",
        "    target = data[1].type(torch.FloatTensor)\n",
        "    target = get_numpy(target)[0]\n",
        "    prediction = net(get_variable(input))\n",
        "    prediction = get_numpy(prediction)[0]\n",
        "    prediction = one_hot_encode(np.argmax(prediction,axis=0))[0]\n",
        "    for i in range(9):\n",
        "      for j in range(9):\n",
        "        tar1 = np.zeros((1,2,256,256))\n",
        "        pred1 = np.zeros((1,2,256,256))\n",
        "        tar1[0,0],pred1[0,0] = target[i],prediction[i]\n",
        "        tar1[0,1],pred1[0,0] = target[j],prediction[j]\n",
        "\n",
        "        iou_arr[i,j] = IoU_score(tar1,pred1,special=True)[0]\n",
        "\n",
        "# plt.matshow(np.average(iou_arr,axis=0),cmap='viridis')\n",
        "fontsize = 12\n",
        "# plot iou between classes\n",
        "fig, ax = plt.subplots()\n",
        "im = ax.matshow(np.average(iou_arr,axis=0),cmap='viridis')\n",
        "cbar = plt.colorbar(im)\n",
        "# cbar.set_label('correlation',fontsize)\n",
        "cbar.ax.tick_params(labelsize=fontsize)\n",
        "plt.title('IoU scores calculated between classes.',fontsize=fontsize)\n",
        "\n",
        "\n",
        "plt.savefig(\"interclass_IoU.pdf\", format=\"pdf\", bbox_inches=\"tight\")\n",
        "plt.show()"
      ],
      "metadata": {
        "colab": {
          "base_uri": "https://localhost:8080/",
          "height": 282
        },
        "id": "9DRKXkLdzWlR",
        "outputId": "b6fefb80-ae0c-4cd3-9f11-7fa6e67652f8"
      },
      "execution_count": 46,
      "outputs": [
        {
          "output_type": "display_data",
          "data": {
            "image/png": "[encoded data removed]",
            "text/plain": [
              "<Figure size 432x288 with 2 Axes>"
            ]
          },
          "metadata": {
            "needs_background": "light"
          }
        }
      ]
    },
    {
      "cell_type": "code",
      "source": [
        "for i in range(20):\n",
        "  idx = i\n",
        "  DS_test.remove_transforms()\n",
        "  img = DS_test.data[idx,0]\n",
        "  mask1 = one_hot2_2d(DS_test.labels[idx])[0]\n",
        "\n",
        "\n",
        "  prediction = net(get_variable(torch.tensor(DS_test.data[idx].reshape(1,1,256,256)).type(torch.FloatTensor)))\n",
        "  mask2 = np.argmax(get_numpy(prediction)[0],axis=0)\n",
        "  mask1[0,0] = np.amax(mask2)\n",
        "  plotMaskOnImage(img,mask1,0,add_name=f'true{idx}')\n",
        "  plotMaskOnImage(img,mask2,0,add_name=f'pred{idx}')\n",
        "\n",
        "print(np.amax(mask1),np.amax(mask2))"
      ],
      "metadata": {
        "colab": {
          "base_uri": "https://localhost:8080/",
          "height": 1000
        },
        "id": "FToF7kgi0HoF",
        "outputId": "ca332209-b2ce-422f-b58f-c9aa12cf52df"
      },
      "execution_count": 47,
      "outputs": [
        {
          "output_type": "stream",
          "name": "stderr",
          "text": [
            "/usr/local/lib/python3.7/dist-packages/matplotlib/image.py:452: UserWarning: Warning: converting a masked element to nan.\n",
            "  dv = np.float64(self.norm.vmax) - np.float64(self.norm.vmin)\n",
            "/usr/local/lib/python3.7/dist-packages/matplotlib/image.py:459: UserWarning: Warning: converting a masked element to nan.\n",
            "  a_min = np.float64(newmin)\n",
            "/usr/local/lib/python3.7/dist-packages/matplotlib/image.py:464: UserWarning: Warning: converting a masked element to nan.\n",
            "  a_max = np.float64(newmax)\n",
            "<string>:6: UserWarning: Warning: converting a masked element to nan.\n",
            "/usr/local/lib/python3.7/dist-packages/numpy/core/_asarray.py:83: UserWarning: Warning: converting a masked element to nan.\n",
            "  return array(a, dtype, copy=False, order=order)\n"
          ]
        },
        {
          "output_type": "display_data",
          "data": {
            "image/png": "[encoded data removed]",
            "text/plain": [
              "<Figure size 432x288 with 1 Axes>"
            ]
          },
          "metadata": {
            "needs_background": "light"
          }
        },
        {
          "output_type": "display_data",
          "data": {
            "image/png": "[encoded data removed]",
            "text/plain": [
              "<Figure size 432x288 with 1 Axes>"
            ]
          },
          "metadata": {
            "needs_background": "light"
          }
        },
        {
          "output_type": "display_data",
          "data": {
            "image/png": "[encoded data removed]",
            "text/plain": [
              "<Figure size 432x288 with 1 Axes>"
            ]
          },
          "metadata": {
            "needs_background": "light"
          }
        },
        {
          "output_type": "display_data",
          "data": {
            "image/png": "[encoded data removed]",
            "text/plain": [
              "<Figure size 432x288 with 1 Axes>"
            ]
          },
          "metadata": {
            "needs_background": "light"
          }
        },
        {
          "output_type": "display_data",
          "data": {
            "image/png": "[encoded data removed]",
            "text/plain": [
              "<Figure size 432x288 with 1 Axes>"
            ]
          },
          "metadata": {
            "needs_background": "light"
          }
        },
        {
          "output_type": "display_data",
          "data": {
            "image/png": "[encoded data removed]",
            "text/plain": [
              "<Figure size 432x288 with 1 Axes>"
            ]
          },
          "metadata": {
            "needs_background": "light"
          }
        },
        {
          "output_type": "display_data",
          "data": {
            "image/png": "[encoded data removed]",
            "text/plain": [
              "<Figure size 432x288 with 1 Axes>"
            ]
          },
          "metadata": {
            "needs_background": "light"
          }
        },
        {
          "output_type": "display_data",
          "data": {
            "image/png": "[encoded data removed]",
            "text/plain": [
              "<Figure size 432x288 with 1 Axes>"
            ]
          },
          "metadata": {
            "needs_background": "light"
          }
        },
        {
          "output_type": "display_data",
          "data": {
            "image/png": "[encoded data removed]",
            "text/plain": [
              "<Figure size 432x288 with 1 Axes>"
            ]
          },
          "metadata": {
            "needs_background": "light"
          }
        },
        {
          "output_type": "display_data",
          "data": {
            "image/png": "[encoded data removed]",
            "text/plain": [
              "<Figure size 432x288 with 1 Axes>"
            ]
          },
          "metadata": {
            "needs_background": "light"
          }
        },
        {
          "output_type": "display_data",
          "data": {
            "image/png": "[encoded data removed]",
            "text/plain": [
              "<Figure size 432x288 with 1 Axes>"
            ]
          },
          "metadata": {
            "needs_background": "light"
          }
        },
        {
          "output_type": "display_data",
          "data": {
            "image/png": "[encoded data removed]",
            "text/plain": [
              "<Figure size 432x288 with 1 Axes>"
            ]
          },
          "metadata": {
            "needs_background": "light"
          }
        },
        {
          "output_type": "display_data",
          "data": {
            "image/png": "[encoded data removed]",
            "text/plain": [
              "<Figure size 432x288 with 1 Axes>"
            ]
          },
          "metadata": {
            "needs_background": "light"
          }
        },
        {
          "output_type": "display_data",
          "data": {
            "image/png": "[encoded data removed]",
            "text/plain": [
              "<Figure size 432x288 with 1 Axes>"
            ]
          },
          "metadata": {
            "needs_background": "light"
          }
        },
        {
          "output_type": "display_data",
          "data": {
            "image/png": "[encoded data removed]",
            "text/plain": [
              "<Figure size 432x288 with 1 Axes>"
            ]
          },
          "metadata": {
            "needs_background": "light"
          }
        },
        {
          "output_type": "display_data",
          "data": {
            "image/png": "[encoded data removed]",
            "text/plain": [
              "<Figure size 432x288 with 1 Axes>"
            ]
          },
          "metadata": {
            "needs_background": "light"
          }
        },
        {
          "output_type": "display_data",
          "data": {
            "image/png": "[encoded data removed]",
            "text/plain": [
              "<Figure size 432x288 with 1 Axes>"
            ]
          },
          "metadata": {
            "needs_background": "light"
          }
        },
        {
          "output_type": "display_data",
          "data": {
            "image/png": "[encoded data removed]",
            "text/plain": [
              "<Figure size 432x288 with 1 Axes>"
            ]
          },
          "metadata": {
            "needs_background": "light"
          }
        },
        {
          "output_type": "display_data",
          "data": {
            "image/png": "[encoded data removed]",
            "text/plain": [
              "<Figure size 432x288 with 1 Axes>"
            ]
          },
          "metadata": {
            "needs_background": "light"
          }
        },
        {
          "output_type": "display_data",
          "data": {
            "image/png": "[encoded data removed]",
            "text/plain": [
              "<Figure size 432x288 with 1 Axes>"
            ]
          },
          "metadata": {
            "needs_background": "light"
          }
        },
        {
          "output_type": "display_data",
          "data": {
            "image/png": "[encoded data removed]",
            "text/plain": [
              "<Figure size 432x288 with 1 Axes>"
            ]
          },
          "metadata": {
            "needs_background": "light"
          }
        },
        {
          "output_type": "display_data",
          "data": {
            "image/png": "[encoded data removed]",
            "text/plain": [
              "<Figure size 432x288 with 1 Axes>"
            ]
          },
          "metadata": {
            "needs_background": "light"
          }
        },
        {
          "output_type": "display_data",
          "data": {
            "image/png": "[encoded data removed]",
            "text/plain": [
              "<Figure size 432x288 with 1 Axes>"
            ]
          },
          "metadata": {
            "needs_background": "light"
          }
        },
        {
          "output_type": "display_data",
          "data": {
            "image/png": "[encoded data removed]",
            "text/plain": [
              "<Figure size 432x288 with 1 Axes>"
            ]
          },
          "metadata": {
            "needs_background": "light"
          }
        },
        {
          "output_type": "display_data",
          "data": {
            "image/png": "[encoded data removed]",
            "text/plain": [
              "<Figure size 432x288 with 1 Axes>"
            ]
          },
          "metadata": {
            "needs_background": "light"
          }
        },
        {
          "output_type": "display_data",
          "data": {
            "image/png": "[encoded data removed]",
            "text/plain": [
              "<Figure size 432x288 with 1 Axes>"
            ]
          },
          "metadata": {
            "needs_background": "light"
          }
        },
        {
          "output_type": "display_data",
          "data": {
            "image/png": "[encoded data removed]",
            "text/plain": [
              "<Figure size 432x288 with 1 Axes>"
            ]
          },
          "metadata": {
            "needs_background": "light"
          }
        },
        {
          "output_type": "display_data",
          "data": {
            "image/png": "[encoded data removed]",
            "text/plain": [
              "<Figure size 432x288 with 1 Axes>"
            ]
          },
          "metadata": {
            "needs_background": "light"
          }
        },
        {
          "output_type": "display_data",
          "data": {
            "image/png": "[encoded data removed]",
            "text/plain": [
              "<Figure size 432x288 with 1 Axes>"
            ]
          },
          "metadata": {
            "needs_background": "light"
          }
        },
        {
          "output_type": "display_data",
          "data": {
            "image/png": "[encoded data removed]",
            "text/plain": [
              "<Figure size 432x288 with 1 Axes>"
            ]
          },
          "metadata": {
            "needs_background": "light"
          }
        },
        {
          "output_type": "display_data",
          "data": {
            "image/png": "[encoded data removed]",
            "text/plain": [
              "<Figure size 432x288 with 1 Axes>"
            ]
          },
          "metadata": {
            "needs_background": "light"
          }
        },
        {
          "output_type": "display_data",
          "data": {
            "image/png": "[encoded data removed]",
            "text/plain": [
              "<Figure size 432x288 with 1 Axes>"
            ]
          },
          "metadata": {
            "needs_background": "light"
          }
        },
        {
          "output_type": "display_data",
          "data": {
            "image/png": "[encoded data removed]",
            "text/plain": [
              "<Figure size 432x288 with 1 Axes>"
            ]
          },
          "metadata": {
            "needs_background": "light"
          }
        },
        {
          "output_type": "display_data",
          "data": {
            "image/png": "[encoded data removed]",
            "text/plain": [
              "<Figure size 432x288 with 1 Axes>"
            ]
          },
          "metadata": {
            "needs_background": "light"
          }
        },
        {
          "output_type": "display_data",
          "data": {
            "image/png": "[encoded data removed]",
            "text/plain": [
              "<Figure size 432x288 with 1 Axes>"
            ]
          },
          "metadata": {
            "needs_background": "light"
          }
        },
        {
          "output_type": "display_data",
          "data": {
            "image/png": "[encoded data removed]",
            "text/plain": [
              "<Figure size 432x288 with 1 Axes>"
            ]
          },
          "metadata": {
            "needs_background": "light"
          }
        },
        {
          "output_type": "display_data",
          "data": {
            "image/png": "[encoded data removed]",
            "text/plain": [
              "<Figure size 432x288 with 1 Axes>"
            ]
          },
          "metadata": {
            "needs_background": "light"
          }
        },
        {
          "output_type": "display_data",
          "data": {
            "image/png": "[encoded data removed]",
            "text/plain": [
              "<Figure size 432x288 with 1 Axes>"
            ]
          },
          "metadata": {
            "needs_background": "light"
          }
        },
        {
          "output_type": "display_data",
          "data": {
            "image/png": "[encoded data removed]",
            "text/plain": [
              "<Figure size 432x288 with 1 Axes>"
            ]
          },
          "metadata": {
            "needs_background": "light"
          }
        },
        {
          "output_type": "display_data",
          "data": {
            "image/png": "[encoded data removed]",
            "text/plain": [
              "<Figure size 432x288 with 1 Axes>"
            ]
          },
          "metadata": {
            "needs_background": "light"
          }
        },
        {
          "output_type": "stream",
          "name": "stdout",
          "text": [
            "0.0 0\n"
          ]
        }
      ]
    }
  ]
}